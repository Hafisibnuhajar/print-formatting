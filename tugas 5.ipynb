{
 "cells": [
  {
   "cell_type": "code",
   "execution_count": 8,
   "id": "40a3a568",
   "metadata": {},
   "outputs": [
    {
     "name": "stdout",
     "output_type": "stream",
     "text": [
      "Nama Dosen pengampu mata kuliah animasi Hafis ibnu hajar\n"
     ]
    }
   ],
   "source": [
    "#strings print formating\n",
    "\n",
    "nama = \"Hafis ibnu hajar\"\n",
    "\n",
    "print(f'Nama Dosen pengampu mata kuliah animasi {nama}')\n"
   ]
  },
  {
   "cell_type": "code",
   "execution_count": 10,
   "id": "20b9a16b",
   "metadata": {
    "scrolled": true
   },
   "outputs": [
    {
     "data": {
      "text/plain": [
       "'Hallo Hafis ibnu hajar selamat datang di Dehasen'"
      ]
     },
     "execution_count": 10,
     "metadata": {},
     "output_type": "execute_result"
    }
   ],
   "source": [
    "nama = \"Hafis ibnu hajar\"\n",
    "f\"Hallo {nama} selamat datang di Dehasen\""
   ]
  },
  {
   "cell_type": "code",
   "execution_count": 12,
   "id": "c91df753",
   "metadata": {},
   "outputs": [
    {
     "name": "stdout",
     "output_type": "stream",
     "text": [
      "siapa nama kamu? Hafis ibnu hajar\n",
      "Hallo Hafis ibnu hajar selamat datang di Dehasen\n"
     ]
    }
   ],
   "source": [
    "user_nama = input (\"siapa nama kamu? \")\n",
    "print(f'Hallo {user_nama} selamat datang di Dehasen')"
   ]
  },
  {
   "cell_type": "code",
   "execution_count": null,
   "id": "f4b8c423",
   "metadata": {},
   "outputs": [],
   "source": []
  }
 ],
 "metadata": {
  "kernelspec": {
   "display_name": "Python 3",
   "language": "python",
   "name": "python3"
  },
  "language_info": {
   "codemirror_mode": {
    "name": "ipython",
    "version": 3
   },
   "file_extension": ".py",
   "mimetype": "text/x-python",
   "name": "python",
   "nbconvert_exporter": "python",
   "pygments_lexer": "ipython3",
   "version": "3.9.2"
  }
 },
 "nbformat": 4,
 "nbformat_minor": 5
}
